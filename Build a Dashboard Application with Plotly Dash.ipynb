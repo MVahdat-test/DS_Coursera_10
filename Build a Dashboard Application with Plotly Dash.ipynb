{
 "cells": [
  {
   "cell_type": "markdown",
   "id": "80719dcb",
   "metadata": {},
   "source": [
    "## Build a Dashboard Application with Plotly Dash\n",
    "\n",
    "In this lab, you will be building a Plotly Dash application for users to perform interactive visual analytics on SpaceX launch data in\n",
    "real-time.\n",
    "\n",
    "This dashboard application contains input components such as a dropdown list and a range slider to\n",
    "interact with a pie chart and a scatter point chart. You will be guided to build this dashboard application via the following tasks:\n",
    "\n",
    "TASK 1: Add a Launch Site Drop-down Input Component\n",
    "TASK 2: Add a callback function to render success-pie-chart based on selected site dropdown\n",
    "TASK 3: Add a Range Slider to Select Payload\n",
    "TASK 4: Add a callback function to render the success-payload-scatter-chart scatter plot\n",
    "Note:Please take screenshots of the Dashboard and save them. Further upload your notebook to github.\n",
    "    \n",
    "After visual analysis using the dashboard, you should be able to obtain some insights to answer the following five questions:\n",
    "\n",
    "Which site has the largest successful launches?\n",
    "Which site has the highest launch success rate?\n",
    "Which payload range(s) has the highest launch success rate?\n",
    "Which payload range(s) has the lowest launch success rate?\n",
    "Which F9 Booster version (v1.0, v1.1, FT, B4, B5, etc.) has the highest\n",
    "launch success rate?    \n",
    "    "
   ]
  },
  {
   "cell_type": "code",
   "execution_count": 1,
   "id": "f17827f7",
   "metadata": {},
   "outputs": [],
   "source": [
    "#!pip install pandas dash"
   ]
  },
  {
   "cell_type": "markdown",
   "id": "4e397488",
   "metadata": {},
   "source": [
    "### Download a skeleton dashboard application and dataset\n",
    "\n",
    "First, let’s get the SpaceX Launch dataset for this lab:\n",
    "\n"
   ]
  },
  {
   "cell_type": "code",
   "execution_count": 2,
   "id": "94584e4a",
   "metadata": {},
   "outputs": [
    {
     "name": "stdout",
     "output_type": "stream",
     "text": [
      "--2023-09-13 10:09:00--  https://cf-courses-data.s3.us.cloud-object-storage.appdomain.cloud/IBM-DS0321EN-SkillsNetwork/datasets/spacex_launch_dash.csv\n",
      "Resolving cf-courses-data.s3.us.cloud-object-storage.appdomain.cloud (cf-courses-data.s3.us.cloud-object-storage.appdomain.cloud)... 169.63.118.104\n",
      "Connecting to cf-courses-data.s3.us.cloud-object-storage.appdomain.cloud (cf-courses-data.s3.us.cloud-object-storage.appdomain.cloud)|169.63.118.104|:443... connected.\n",
      "HTTP request sent, awaiting response... 200 OK\n",
      "Length: 2476 (2.4K) [text/csv]\n",
      "Saving to: ‘spacex_launch_dash.csv.4’\n",
      "\n",
      "spacex_launch_dash. 100%[===================>]   2.42K  --.-KB/s    in 0s      \n",
      "\n",
      "2023-09-13 10:09:00 (169 MB/s) - ‘spacex_launch_dash.csv.4’ saved [2476/2476]\n",
      "\n"
     ]
    }
   ],
   "source": [
    "!wget \"https://cf-courses-data.s3.us.cloud-object-storage.appdomain.cloud/IBM-DS0321EN-SkillsNetwork/datasets/spacex_launch_dash.csv\""
   ]
  },
  {
   "cell_type": "code",
   "execution_count": 3,
   "id": "525b5e4d",
   "metadata": {},
   "outputs": [
    {
     "name": "stdout",
     "output_type": "stream",
     "text": [
      "--2023-09-13 10:09:00--  https://cf-courses-data.s3.us.cloud-object-storage.appdomain.cloud/IBM-DS0321EN-SkillsNetwork/labs/module_3/spacex_dash_app.py\n",
      "Resolving cf-courses-data.s3.us.cloud-object-storage.appdomain.cloud (cf-courses-data.s3.us.cloud-object-storage.appdomain.cloud)... 169.63.118.104\n",
      "Connecting to cf-courses-data.s3.us.cloud-object-storage.appdomain.cloud (cf-courses-data.s3.us.cloud-object-storage.appdomain.cloud)|169.63.118.104|:443... connected.\n",
      "HTTP request sent, awaiting response... 200 OK\n",
      "Length: 2110 (2.1K) [text/x-python]\n",
      "Saving to: ‘spacex_dash_app.py.4’\n",
      "\n",
      "spacex_dash_app.py. 100%[===================>]   2.06K  --.-KB/s    in 0s      \n",
      "\n",
      "2023-09-13 10:09:00 (224 MB/s) - ‘spacex_dash_app.py.4’ saved [2110/2110]\n",
      "\n"
     ]
    },
    {
     "name": "stderr",
     "output_type": "stream",
     "text": [
      "/Users/mahnazvahdat/spacex_dash_app.py:4: UserWarning: \n",
      "The dash_html_components package is deprecated. Please replace\n",
      "`import dash_html_components as html` with `from dash import html`\n",
      "  import dash_html_components as html\n",
      "/Users/mahnazvahdat/spacex_dash_app.py:5: UserWarning: \n",
      "The dash_core_components package is deprecated. Please replace\n",
      "`import dash_core_components as dcc` with `from dash import dcc`\n",
      "  import dash_core_components as dcc\n"
     ]
    },
    {
     "data": {
      "text/html": [
       "\n",
       "        <iframe\n",
       "            width=\"100%\"\n",
       "            height=\"650\"\n",
       "            src=\"http://127.0.0.1:8050/\"\n",
       "            frameborder=\"0\"\n",
       "            allowfullscreen\n",
       "            \n",
       "        ></iframe>\n",
       "        "
      ],
      "text/plain": [
       "<IPython.lib.display.IFrame at 0x121d669b0>"
      ]
     },
     "metadata": {},
     "output_type": "display_data"
    }
   ],
   "source": [
    "# Download the script using wget\n",
    "!wget \"https://cf-courses-data.s3.us.cloud-object-storage.appdomain.cloud/IBM-DS0321EN-SkillsNetwork/labs/module_3/spacex_dash_app.py\"\n",
    "\n",
    "# Run the downloaded script\n",
    "%run spacex_dash_app.py\n"
   ]
  },
  {
   "cell_type": "markdown",
   "id": "8029b823",
   "metadata": {},
   "source": [
    "## TASK 1: Add a Launch Site Drop-down Input Component\n",
    "We have four different launch sites and we would like to first see which one has the largest success count. Then,\n",
    "we would like to select one specific site and check its detailed success rate (class=0 vs. class=1).\n",
    "\n",
    "As such, we will need a dropdown menu to let us select different launch sites.\n",
    "\n",
    "Find and complete a commented dcc.Dropdown(id='site-dropdown',...) input with following attributes:\n",
    "id attribute with value site-dropdown\n",
    "options attribute is a list of dict-like option objects (with label and value attributes). You can set\n",
    "the label and value all to be the launch site names in the spacex_df\n",
    "and you need to include the default All option. e.g.,"
   ]
  },
  {
   "cell_type": "code",
   "execution_count": 4,
   "id": "39e7d162",
   "metadata": {},
   "outputs": [],
   "source": [
    "options=[{'label': 'All Sites', 'value': 'ALL'},{'label': 'site1', 'value': 'site1'}, ...]\n",
    "    "
   ]
  },
  {
   "cell_type": "markdown",
   "id": "7ada52f7",
   "metadata": {},
   "source": [
    "value attribute with default dropdown value to be ALL meaning all sites are selected\n",
    "placeholder attribute to show a text description about this input area,\n",
    "such as Select a Launch Site here\n",
    "searchable attribute to be True so we can enter keywords to search launch sites\n",
    "Here is an example of dcc.Dropdown:"
   ]
  },
  {
   "cell_type": "code",
   "execution_count": 9,
   "id": "d305ed35",
   "metadata": {},
   "outputs": [
    {
     "data": {
      "text/html": [
       "\n",
       "        <iframe\n",
       "            width=\"100%\"\n",
       "            height=\"650\"\n",
       "            src=\"http://127.0.0.1:8050/\"\n",
       "            frameborder=\"0\"\n",
       "            allowfullscreen\n",
       "            \n",
       "        ></iframe>\n",
       "        "
      ],
      "text/plain": [
       "<IPython.lib.display.IFrame at 0x121e23e20>"
      ]
     },
     "metadata": {},
     "output_type": "display_data"
    }
   ],
   "source": [
    "\n",
    "# Import required libraries\n",
    "import pandas as pd\n",
    "import dash\n",
    "import dash_html_components as html\n",
    "import dash_core_components as dcc\n",
    "from dash.dependencies import Input, Output\n",
    "import plotly.express as px\n",
    "\n",
    "# Read the airline data into pandas dataframe\n",
    "spacex_df = pd.read_csv(\"spacex_launch_dash.csv\")\n",
    "max_payload = spacex_df['Payload Mass (kg)'].max()\n",
    "min_payload = spacex_df['Payload Mass (kg)'].min()\n",
    "\n",
    "\n",
    "\n",
    "# Create a dash application\n",
    "app = dash.Dash(__name__)\n",
    "\n",
    "# Create an app layout\n",
    "\n",
    "sites=spacex_df['Launch Site'].unique().tolist()\n",
    "sites.insert(0,'All Sites')\n",
    "\n",
    "\n",
    "\n",
    "\n",
    "app.layout = html.Div(children=[html.H1('SpaceX Launch Records Dashboard',\n",
    "                                        style={'textAlign': 'center', 'color': '#503D36',\n",
    "                                               'font-size': 40}),\n",
    "                                # TASK 1: Add a dropdown list to enable Launch Site selection\n",
    "                                # The default select value is for ALL sites\n",
    "                                dcc.Dropdown(\n",
    "                                   id='site-dropdown',\n",
    "                                   options=[\n",
    "                                    {'label': i, 'value': i} for i in sites],\n",
    "                                    placeholder=\"Select a Launch Site here\",\n",
    "                                    value='All Sites',\n",
    "                                    searchable=True),\n",
    "                            \n",
    "                                html.Br(),\n",
    "\n",
    "                                # TASK 2: Add a pie chart to show the total successful launches count for all sites\n",
    "                                # If a specific launch site was selected, show the Success vs. Failed counts for the site\n",
    "                                html.Div(dcc.Graph(id='success-pie-chart')),\n",
    "                                html.Br(),\n",
    "\n",
    "                                html.P(\"Payload range (Kg):\"),\n",
    "                                # TASK 3: Add a slider to select payload range\n",
    "                                dcc.RangeSlider(id='payload-slider',\n",
    "                                min=0,\n",
    "                                max=10000,\n",
    "                                step=1000,\n",
    "                                value=[min_payload,max_payload],\n",
    "                                marks={\n",
    "                                0: '0 kg',\n",
    "                                2500: '2500',\n",
    "                                5000: '5000',\n",
    "                                7500: '7500',\n",
    "                                10000: '10000'\n",
    "                                }),\n",
    "\n",
    "                                # TASK 4: Add a scatter chart to show the correlation between payload and launch success\n",
    "                                html.Div(dcc.Graph(id='success-payload-scatter-chart')),\n",
    "                                ])\n",
    "\n",
    "# TASK 2:\n",
    "# Add a callback function for `site-dropdown` as input, `success-pie-chart` as output\n",
    "@app.callback(\n",
    "Output(component_id='success-pie-chart', component_property='figure'),\n",
    "Input(component_id='site-dropdown', component_property='value')\n",
    ")\n",
    "def get_pie(value):\n",
    "    filtered_df = spacex_df\n",
    "    if value == 'All Sites':\n",
    "        fig = px.pie(filtered_df, values='class', names='Launch Site', title='Total Success Launches By Site')\n",
    "        return fig\n",
    "\n",
    "    else:\n",
    "        filtered_df = spacex_df[spacex_df['Launch Site'] == value].groupby(['Launch Site', 'class']). \\\n",
    "        size().reset_index(name='class count')\n",
    "        title = f\"Total Success Launches for site {value}\"\n",
    "        fig = px.pie(filtered_df,values='class count', names='class', title=title)\n",
    "        return fig\n",
    "\n",
    "# Add a callback function for `site-dropdown` and `payload-slider` as inputs, `success-payload-scatter-chart` as output\n",
    "@app.callback(\n",
    "Output(component_id='success-payload-scatter-chart', component_property='figure'),\n",
    "[Input(component_id='site-dropdown', component_property='value'),\n",
    "Input(component_id='payload-slider', component_property='value')]\n",
    ")\n",
    "\n",
    "def get_scatter(value1,value2):\n",
    "    filtered_df2_1=spacex_df[(spacex_df['Payload Mass (kg)'] > value2[0]) & (spacex_df['Payload Mass (kg)'] < value2[1])]\n",
    "\n",
    "    if value1=='All Sites':\n",
    "        fig= px.scatter(filtered_df2_1,x=\"Payload Mass (kg)\",y=\"class\",color=\"Booster Version Category\",\\\n",
    "        title=\"Correlation between Payload and Success for All sites\")\n",
    "        return fig\n",
    "    else :\n",
    "        filtered_df2_2=filtered_df2_1[filtered_df2_1['Launch Site']==value1]\n",
    "        fig= px.scatter(filtered_df2_2,x=\"Payload Mass (kg)\",y=\"class\",color=\"Booster Version Category\",\\\n",
    "        title=f\"Correlation between Payload and Success for site {value1}\")\n",
    "        return fig\n",
    "# Run the app\n",
    "if __name__ == '__main__':\n",
    "    app.run_server()"
   ]
  },
  {
   "cell_type": "code",
   "execution_count": null,
   "id": "fe55b8c6",
   "metadata": {},
   "outputs": [],
   "source": []
  }
 ],
 "metadata": {
  "kernelspec": {
   "display_name": "Python 3 (ipykernel)",
   "language": "python",
   "name": "python3"
  },
  "language_info": {
   "codemirror_mode": {
    "name": "ipython",
    "version": 3
   },
   "file_extension": ".py",
   "mimetype": "text/x-python",
   "name": "python",
   "nbconvert_exporter": "python",
   "pygments_lexer": "ipython3",
   "version": "3.10.9"
  }
 },
 "nbformat": 4,
 "nbformat_minor": 5
}
